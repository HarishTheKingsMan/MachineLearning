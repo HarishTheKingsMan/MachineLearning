{
  "cells": [
    {
      "cell_type": "markdown",
      "metadata": {
        "id": "view-in-github",
        "colab_type": "text"
      },
      "source": [
        "<a href=\"https://colab.research.google.com/github/HarishTheKingsMan/MachineLearning/blob/main/DiabetesLinearRegression.ipynb\" target=\"_parent\"><img src=\"https://colab.research.google.com/assets/colab-badge.svg\" alt=\"Open In Colab\"/></a>"
      ]
    },
    {
      "cell_type": "markdown",
      "id": "5e9057c5",
      "metadata": {
        "id": "5e9057c5"
      },
      "source": [
        "# Linear Regression with diabetes Dataset"
      ]
    },
    {
      "cell_type": "markdown",
      "id": "d8b68feb",
      "metadata": {
        "id": "d8b68feb"
      },
      "source": [
        "### 1.Loading the Data\n",
        "### 2. Extracting the Data\n",
        "### 3. Slicing the Data\n",
        "### 4. Train and Split the Data \n",
        "### 5. Generate the model\n",
        "### 6. Evaluate the accuracy"
      ]
    },
    {
      "cell_type": "code",
      "execution_count": 1,
      "id": "eb2ae783",
      "metadata": {
        "id": "eb2ae783"
      },
      "outputs": [],
      "source": [
        "import matplotlib.pyplot as plt\n",
        "import numpy as np\n",
        "from sklearn import datasets, linear_model\n",
        "from sklearn.metrics import mean_squared_error"
      ]
    },
    {
      "cell_type": "code",
      "execution_count": 2,
      "id": "3f765e58",
      "metadata": {
        "id": "3f765e58"
      },
      "outputs": [],
      "source": [
        "# 1. Loading the Data \n",
        "disease = datasets.load_diabetes()"
      ]
    },
    {
      "cell_type": "code",
      "execution_count": 3,
      "id": "7736f674",
      "metadata": {
        "id": "7736f674"
      },
      "outputs": [],
      "source": [
        "# 2. EXtracting the Data\n",
        "disease_X = disease.data[:, np.newaxis,2]"
      ]
    },
    {
      "cell_type": "code",
      "execution_count": 4,
      "id": "c08f5cb9",
      "metadata": {
        "id": "c08f5cb9"
      },
      "outputs": [],
      "source": [
        "# 3. Slicing the Data\n",
        "disease_X_train = disease_X[ :-30]\n",
        "disease_X_test = disease_X[-20: ]\n",
        "\n",
        "disease_Y_train = disease.target[ :-30]\n",
        "disease_Y_test = disease.target[-20: ]"
      ]
    },
    {
      "cell_type": "code",
      "execution_count": 5,
      "id": "87a8b4d1",
      "metadata": {
        "id": "87a8b4d1",
        "outputId": "b45eadcb-29a1-4874-c507-b38672b8b35a",
        "colab": {
          "base_uri": "https://localhost:8080/"
        }
      },
      "outputs": [
        {
          "output_type": "stream",
          "name": "stdout",
          "text": [
            "2561.3204277283867\n",
            "[941.43097333] 153.39713623331698\n"
          ]
        }
      ],
      "source": [
        "# 4. Train & Generate the model\n",
        "\n",
        "reg = linear_model.LinearRegression()\n",
        " \n",
        "## Fit the training Data into the fit \n",
        "reg.fit(disease_X_train, disease_Y_train)\n",
        "\n",
        "## Test the model with X test data\n",
        "Y_predict = reg.predict(disease_X_test)\n",
        "\n",
        "## Predict the accuracy\n",
        "accuracy = mean_squared_error(disease_Y_test, Y_predict)\n",
        "\n",
        "print(accuracy)\n",
        "\n",
        "## weights and bias\n",
        "\n",
        "weights = reg.coef_\n",
        "intercept = reg.intercept_\n",
        "\n",
        "print(weights, intercept)"
      ]
    },
    {
      "cell_type": "code",
      "execution_count": 6,
      "id": "017d93fe",
      "metadata": {
        "id": "017d93fe",
        "outputId": "523b4d1b-a4b9-4dac-97c3-1a7fbb1e453b",
        "colab": {
          "base_uri": "https://localhost:8080/",
          "height": 265
        }
      },
      "outputs": [
        {
          "output_type": "display_data",
          "data": {
            "text/plain": [
              "<Figure size 432x288 with 1 Axes>"
            ],
            "image/png": "[encoded data removed]"
          },
          "metadata": {
            "needs_background": "light"
          }
        }
      ],
      "source": [
        "#Accuracy in Graph\n",
        "\n",
        "plt.scatter(disease_X_test, disease_Y_test)\n",
        "plt.plot(disease_X_test, Y_predict)\n",
        "plt.show()"
      ]
    },
    {
      "cell_type": "code",
      "execution_count": 6,
      "id": "5f91f3c3",
      "metadata": {
        "id": "5f91f3c3"
      },
      "outputs": [],
      "source": []
    }
  ],
  "metadata": {
    "kernelspec": {
      "display_name": "Python 3 (ipykernel)",
      "language": "python",
      "name": "python3"
    },
    "language_info": {
      "codemirror_mode": {
        "name": "ipython",
        "version": 3
      },
      "file_extension": ".py",
      "mimetype": "text/x-python",
      "name": "python",
      "nbconvert_exporter": "python",
      "pygments_lexer": "ipython3",
      "version": "3.9.13"
    },
    "colab": {
      "provenance": [],
      "include_colab_link": true
    }
  },
  "nbformat": 4,
  "nbformat_minor": 5
}